{
 "cells": [
  {
   "cell_type": "code",
   "execution_count": 10,
   "metadata": {},
   "outputs": [],
   "source": [
    "import os\n",
    "import shutil\n",
    "import re\n",
    "import json\n",
    "from datetime import datetime\n",
    "from datetime import timedelta\n",
    "from datetime import date"
   ]
  },
  {
   "cell_type": "code",
   "execution_count": 11,
   "metadata": {},
   "outputs": [],
   "source": [
    "def extract_date(string, format_= '%d-%m-%Y'):\n",
    "    for stop_word in stop_words:\n",
    "        string = string.upper().replace(stop_word,'')\n",
    "    date = re.match(re_date_picker, string)[0]\n",
    "    date = date.replace('.','-').replace('/','')\n",
    "    date = datetime.strptime(date, format_)\n",
    "    return date.strftime(\"%Y-%m-%d\")\n",
    "\n",
    "stop_words = ['EVENING', 'REVISED', 'FOR', 'MEDIA', 'BULLETIN', 'COVID-19', 'ENGLISH', '5PM', ',', '_', ' ', '.PDF']\n",
    "re_date_picker = r\"^(?:(?:31(\\/|-|\\.)(?:0?[13578]|1[02]|(?:Jan|Mar|May|Jul|Aug|Oct|Dec)))\\1|(?:(?:29|30)(\\/|-|\\.)(?:0?[1,3-9]|1[0-2]|(?:Jan|Mar|Apr|May|Jun|Jul|Aug|Sep|Oct|Nov|Dec))\\2))(?:(?:1[6-9]|[2-9]\\d)?\\d{2})$|^(?:29(\\/|-|\\.)(?:0?2|(?:Feb))\\3(?:(?:(?:1[6-9]|[2-9]\\d)?(?:0[48]|[2468][048]|[13579][26])|(?:(?:16|[2468][048]|[3579][26])00))))$|^(?:0?[1-9]|1\\d|2[0-8])(\\/|-|\\.)(?:(?:0?[1-9]|(?:Jan|Feb|Mar|Apr|May|Jun|Jul|Aug|Sep))|(?:1[0-2]|(?:Oct|Nov|Dec)))\\4(?:(?:1[6-9]|[2-9]\\d)?\\d{2})\""
   ]
  },
  {
   "cell_type": "code",
   "execution_count": 12,
   "metadata": {},
   "outputs": [],
   "source": [
    "d0 = date(2020, 3, 1)\n",
    "d1 = datetime.today().date()\n",
    "numdays = (d1 - d0).days\n",
    "\n",
    "base = datetime.today()\n",
    "date_list = [((base - timedelta(days=x)).strftime(\"%Y-%m-%d\"),'') for x in range(numdays)]\n",
    "file_mappings = dict(date_list)"
   ]
  },
  {
   "cell_type": "code",
   "execution_count": 13,
   "metadata": {},
   "outputs": [],
   "source": [
    "files = os.listdir('raw_data/reports/')\n",
    "\n",
    "for file in files :\n",
    "    if '.pdf' in file:\n",
    "        date = extract_date(file)\n",
    "        file_mappings[date] = file\n",
    "        shutil.copy(f\"raw_data/reports/{file}\", f\"raw_data/renamed_reports/{date}.pdf\")\n",
    "                \n",
    "with open('raw_data/file_mappings.json','w+')as f:\n",
    "    json.dump(file_mappings,f,sort_keys=True)"
   ]
  },
  {
   "cell_type": "code",
   "execution_count": null,
   "metadata": {},
   "outputs": [],
   "source": []
  }
 ],
 "metadata": {
  "kernelspec": {
   "display_name": "test-env",
   "language": "python",
   "name": "test"
  },
  "language_info": {
   "codemirror_mode": {
    "name": "ipython",
    "version": 3
   },
   "file_extension": ".py",
   "mimetype": "text/x-python",
   "name": "python",
   "nbconvert_exporter": "python",
   "pygments_lexer": "ipython3",
   "version": "3.6.8"
  }
 },
 "nbformat": 4,
 "nbformat_minor": 2
}
